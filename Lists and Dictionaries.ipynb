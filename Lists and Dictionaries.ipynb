{
 "cells": [
  {
   "cell_type": "code",
   "execution_count": 1,
   "metadata": {},
   "outputs": [
    {
     "name": "stdout",
     "output_type": "stream",
     "text": [
      "['apples', 'banana', 'watermelon', 'grape']\n"
     ]
    }
   ],
   "source": [
    "#lists in Python are easy to create and handle\n",
    "\n",
    "fruit_list = [\"apples\", \"banana\", \"watermelon\", \"grape\"] #the elements are separated by a coma\n",
    "print(fruit_list)\n"
   ]
  },
  {
   "cell_type": "code",
   "execution_count": 2,
   "metadata": {},
   "outputs": [
    {
     "name": "stdout",
     "output_type": "stream",
     "text": [
      "['apples', 'banana', 'watermelon', 'grape', 'mango']\n"
     ]
    }
   ],
   "source": [
    "#you can add an element using the keyword 'append'\n",
    "\n",
    "fruit_list.append(\"mango\")\n",
    "print(fruit_list)"
   ]
  },
  {
   "cell_type": "code",
   "execution_count": 3,
   "metadata": {},
   "outputs": [
    {
     "name": "stdout",
     "output_type": "stream",
     "text": [
      "['apples', 'pear', 'watermelon', 'grape', 'mango']\n"
     ]
    }
   ],
   "source": [
    "#if you need to change any object you use the equal operator(=) and the position\n",
    "\n",
    "fruit_list[1] = \"pear\"\n",
    "print(fruit_list)"
   ]
  },
  {
   "cell_type": "code",
   "execution_count": 4,
   "metadata": {},
   "outputs": [
    {
     "name": "stdout",
     "output_type": "stream",
     "text": [
      "['apples', 'pear', 'watermelon', 'grape', 'mango', 1, 2, 3, 4, 5, 6]\n"
     ]
    }
   ],
   "source": [
    "#you can add one list into another list, no matter the type objects using the sum operator \"+\"\n",
    "\n",
    "number_list = [1, 2, 3, 4, 5, 6]\n",
    "my_list = fruit_list + number_list\n",
    "print (my_list)"
   ]
  },
  {
   "cell_type": "code",
   "execution_count": 5,
   "metadata": {},
   "outputs": [
    {
     "name": "stdout",
     "output_type": "stream",
     "text": [
      "['apples', 'pear', 'grape', 'mango']\n"
     ]
    }
   ],
   "source": [
    "#delete an object from a list is as simple as add, with the \"del\" command\n",
    "\n",
    "del fruit_list[2] #deletes watermelon\n",
    "print(fruit_list)"
   ]
  },
  {
   "cell_type": "code",
   "execution_count": 6,
   "metadata": {},
   "outputs": [],
   "source": [
    "#DICTIONARIES\n",
    "\n",
    "players = {\"Carlos\" : 21, \"Lucas\" : 20, \"Laura\" : 32} #names are the 'key' and numbers are the values"
   ]
  },
  {
   "cell_type": "code",
   "execution_count": 7,
   "metadata": {},
   "outputs": [
    {
     "name": "stdout",
     "output_type": "stream",
     "text": [
      "{'Carlos': 21, 'Lucas': 20, 'Laura': 32}\n"
     ]
    }
   ],
   "source": [
    "print(players)"
   ]
  },
  {
   "cell_type": "code",
   "execution_count": 8,
   "metadata": {},
   "outputs": [
    {
     "name": "stdout",
     "output_type": "stream",
     "text": [
      "20\n"
     ]
    }
   ],
   "source": [
    "#to know the age of any player, you use the keyword into brackets\n",
    "print(players[\"Lucas\"])"
   ]
  },
  {
   "cell_type": "code",
   "execution_count": null,
   "metadata": {},
   "outputs": [],
   "source": []
  }
 ],
 "metadata": {
  "kernelspec": {
   "display_name": "Python 3",
   "language": "python",
   "name": "python3"
  },
  "language_info": {
   "codemirror_mode": {
    "name": "ipython",
    "version": 3
   },
   "file_extension": ".py",
   "mimetype": "text/x-python",
   "name": "python",
   "nbconvert_exporter": "python",
   "pygments_lexer": "ipython3",
   "version": "3.6.5"
  }
 },
 "nbformat": 4,
 "nbformat_minor": 2
}
